{
  "nbformat": 4,
  "nbformat_minor": 0,
  "metadata": {
    "colab": {
      "provenance": []
    },
    "kernelspec": {
      "name": "python3",
      "display_name": "Python 3"
    },
    "language_info": {
      "name": "python"
    }
  },
  "cells": [
    {
      "cell_type": "code",
      "execution_count": 1,
      "metadata": {
        "colab": {
          "base_uri": "https://localhost:8080/"
        },
        "id": "SxJnpwArtN8c",
        "outputId": "0d2cccbb-2672-4ea8-90b3-526c7f2f4885"
      },
      "outputs": [
        {
          "output_type": "stream",
          "name": "stdout",
          "text": [
            "=== Sistem Pakar: Identifikasi Hama pada Tanaman ===\n",
            "\n",
            "Pilihan Gejala yang Dapat Dipilih:\n",
            "1. daun menguning\n",
            "2. bercak hitam\n",
            "3. daun berlubang\n",
            "4. tanaman layu\n",
            "\n",
            "Tuliskan gejala yang dialami tanaman (pisahkan dengan tanda koma):\n",
            "> daun menguning,tanaman layu\n",
            "\n",
            "=== Hasil Analisis ===\n",
            "- Daun Menguning : Hama: Kutu Daun\n",
            "- Tanaman Layu : Hama: Nematoda\n"
          ]
        }
      ],
      "source": [
        "def deteksi_hama(gejala):\n",
        "    if \"daun menguning\" in gejala:\n",
        "        return \"Hama: Kutu Daun\"\n",
        "    elif \"bercak hitam\" in gejala:\n",
        "        return \"Penyakit: Jamur\"\n",
        "    elif \"daun berlubang\" in gejala:\n",
        "        return \"Hama: Ulat\"\n",
        "    elif \"tanaman layu\" in gejala:\n",
        "        return \"Hama: Nematoda\"\n",
        "    else:\n",
        "        return \"Gejala tidak ditemukan\"\n",
        "\n",
        "gejala_list = [\n",
        "    \"daun menguning\",\n",
        "    \"bercak hitam\",\n",
        "    \"daun berlubang\",\n",
        "    \"tanaman layu\"\n",
        "]\n",
        "\n",
        "print(\"=== Sistem Pakar: Identifikasi Hama pada Tanaman ===\\n\")\n",
        "print(\"Pilihan Gejala yang Dapat Dipilih:\")\n",
        "for nomor, gejala in enumerate(gejala_list, start=1):\n",
        "    print(f\"{nomor}. {gejala}\")\n",
        "\n",
        "user_input = input(\"\\nTuliskan gejala yang dialami tanaman (pisahkan dengan tanda koma):\\n> \")\n",
        "\n",
        "gejala_terpilih = [item.strip().lower() for item in user_input.split(\",\")]\n",
        "\n",
        "print(\"\\n=== Hasil Analisis ===\")\n",
        "for gejala in gejala_terpilih:\n",
        "    hasil = deteksi_hama(gejala)\n",
        "    print(f\"- {gejala.title()} : {hasil}\")\n"
      ]
    }
  ]
}